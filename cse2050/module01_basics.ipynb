{
 "cells": [
  {
   "cell_type": "markdown",
   "metadata": {},
   "source": [
    "### Code to accompany Module 1: Python Basics"
   ]
  },
  {
   "cell_type": "code",
   "execution_count": 2,
   "metadata": {},
   "outputs": [
    {
     "data": {
      "text/plain": [
       "4"
      ]
     },
     "execution_count": 2,
     "metadata": {},
     "output_type": "execute_result"
    }
   ],
   "source": [
    "2+2"
   ]
  },
  {
   "cell_type": "code",
   "execution_count": 3,
   "metadata": {},
   "outputs": [
    {
     "data": {
      "text/plain": [
       "42"
      ]
     },
     "execution_count": 3,
     "metadata": {},
     "output_type": "execute_result"
    }
   ],
   "source": [
    "52-10"
   ]
  },
  {
   "cell_type": "code",
   "execution_count": 4,
   "metadata": {},
   "outputs": [
    {
     "data": {
      "text/plain": [
       "7"
      ]
     },
     "execution_count": 4,
     "metadata": {},
     "output_type": "execute_result"
    }
   ],
   "source": [
    "min(7,9)"
   ]
  },
  {
   "cell_type": "code",
   "execution_count": 5,
   "metadata": {},
   "outputs": [
    {
     "data": {
      "text/plain": [
       "0"
      ]
     },
     "execution_count": 5,
     "metadata": {},
     "output_type": "execute_result"
    }
   ],
   "source": [
    "max(-4,0)"
   ]
  },
  {
   "cell_type": "code",
   "execution_count": 6,
   "metadata": {},
   "outputs": [
    {
     "data": {
      "text/plain": [
       "35.0"
      ]
     },
     "execution_count": 6,
     "metadata": {},
     "output_type": "execute_result"
    }
   ],
   "source": [
    "5*(3+abs(-12)/3)"
   ]
  },
  {
   "cell_type": "code",
   "execution_count": 7,
   "metadata": {},
   "outputs": [
    {
     "data": {
      "text/plain": [
       "True"
      ]
     },
     "execution_count": 7,
     "metadata": {},
     "output_type": "execute_result"
    }
   ],
   "source": [
    "(3-3)==0"
   ]
  },
  {
   "cell_type": "code",
   "execution_count": null,
   "metadata": {},
   "outputs": [],
   "source": [
    "2>5"
   ]
  },
  {
   "cell_type": "markdown",
   "metadata": {},
   "source": [
    "### Example 1"
   ]
  },
  {
   "cell_type": "code",
   "execution_count": 8,
   "metadata": {},
   "outputs": [],
   "source": [
    "# Write a function whose input is an integer between 1 and 7\n",
    "# and whose output is a day of the week (e.g., 1=Sunday, 2=Monday, etc.)\n",
    "def input_intger_btw_1_7():\n",
    "    day = int(input(\"Enter a number between 1 and 7: \"))\n",
    "    if day == 1:\n",
    "        return \"Sunday\"\n",
    "    elif day == 2:\n",
    "        return \"Monday\"\n",
    "    elif day == 3:\n",
    "        return \"Tuesday\"\n",
    "    elif day == 4:\n",
    "        return \"Wednesday\"\n",
    "    elif day == 5:\n",
    "        return \"Thursday\"\n",
    "    elif day == 6:\n",
    "        return \"Friday\"\n",
    "    elif day == 7:\n",
    "        return \"Saturday\"\n",
    "    else:\n",
    "        return \"Invalid input\""
   ]
  },
  {
   "cell_type": "markdown",
   "metadata": {},
   "source": [
    "### Example 2"
   ]
  },
  {
   "cell_type": "code",
   "execution_count": null,
   "metadata": {},
   "outputs": [],
   "source": [
    "# The first day of January 2025 was a Wednesday. \n",
    "# Write a function whose input is an integer between 1 and 31\n",
    "# and whose output is the day of the week in January 2025."
   ]
  },
  {
   "cell_type": "code",
   "execution_count": null,
   "metadata": {},
   "outputs": [],
   "source": [
    "# storing in variables\n",
    "radius = 4\n",
    "pi = 3.14159\n",
    "area = pi*radius**2\n",
    "\n",
    "area"
   ]
  },
  {
   "cell_type": "code",
   "execution_count": null,
   "metadata": {},
   "outputs": [],
   "source": [
    "# identity, type, and value of an object\n",
    "print(id(area))\n",
    "print(type(area))\n",
    "print(area)"
   ]
  },
  {
   "cell_type": "code",
   "execution_count": null,
   "metadata": {},
   "outputs": [],
   "source": [
    "# How will the id, type, and value be different for radius? \n",
    "print(id(radius))\n",
    "print(type(radius))\n",
    "print(radius)"
   ]
  },
  {
   "cell_type": "code",
   "execution_count": 21,
   "metadata": {},
   "outputs": [],
   "source": [
    "x = [1,2,3]\n",
    "y = x\n",
    "z = [1,2,3]"
   ]
  },
  {
   "cell_type": "code",
   "execution_count": null,
   "metadata": {},
   "outputs": [],
   "source": [
    "# Do they have the same value?\n",
    "print(x == y)\n",
    "print(x == z)"
   ]
  },
  {
   "cell_type": "code",
   "execution_count": null,
   "metadata": {},
   "outputs": [],
   "source": [
    "# but do they have the same id?\n",
    "print(x is y)\n",
    "print(x is z)"
   ]
  },
  {
   "cell_type": "code",
   "execution_count": null,
   "metadata": {},
   "outputs": [],
   "source": [
    "# Based on the previous cell, x and y have the same id, \n",
    "# but z has a different id\n",
    "print(id(x))\n",
    "print(id(y))\n",
    "print(id(z))"
   ]
  },
  {
   "cell_type": "code",
   "execution_count": null,
   "metadata": {},
   "outputs": [],
   "source": [
    "# Demonstrating None type\n",
    "a = print(\"Hello\")\n",
    "b = print(\"Hi\")\n",
    "\n",
    "print(a is None)\n",
    "print(bool(a))\n",
    "\n",
    "# There is only one None type\n",
    "print(a is b)"
   ]
  },
  {
   "cell_type": "code",
   "execution_count": null,
   "metadata": {},
   "outputs": [],
   "source": [
    "# A more interesting/useful demonstration of None type\n",
    "def greet(name=None):\n",
    "    if name is None:\n",
    "        print(\"Hello, stranger!\")\n",
    "    else:\n",
    "        print(\"Hello,\", name)\n",
    "\n",
    "greet()\n",
    "greet(\"Matt\")"
   ]
  },
  {
   "cell_type": "code",
   "execution_count": 30,
   "metadata": {},
   "outputs": [],
   "source": [
    "x = 2\n",
    "y = 3.1\n",
    "z = True"
   ]
  },
  {
   "cell_type": "code",
   "execution_count": null,
   "metadata": {},
   "outputs": [],
   "source": [
    "print(type(x))\n",
    "print(type(y))\n",
    "print(type(z))"
   ]
  },
  {
   "cell_type": "markdown",
   "metadata": {},
   "source": [
    "### Strings"
   ]
  },
  {
   "cell_type": "code",
   "execution_count": null,
   "metadata": {},
   "outputs": [],
   "source": [
    "# basic examples\n",
    "s = \"Hello, \"\n",
    "t = 'world.'\n",
    "u = s + t\n",
    "\n",
    "print(type(u))\n",
    "print(u)\n",
    "print(u[9])"
   ]
  },
  {
   "cell_type": "code",
   "execution_count": null,
   "metadata": {},
   "outputs": [],
   "source": [
    "# strings are immutable\n",
    "u[9] = 'u'"
   ]
  },
  {
   "cell_type": "code",
   "execution_count": null,
   "metadata": {},
   "outputs": [],
   "source": [
    "string1 = \"Data structures are cool. \"\n",
    "\n",
    "# Test some string operations here!\n"
   ]
  },
  {
   "cell_type": "markdown",
   "metadata": {},
   "source": [
    "### Lists"
   ]
  },
  {
   "cell_type": "code",
   "execution_count": null,
   "metadata": {},
   "outputs": [],
   "source": [
    "L = [1,2,3,4,5,6]\n",
    "\n",
    "print(type(L))\n",
    "print(L[0])\n",
    "print(L[1])\n",
    "print(L[-1])\n",
    "print(L[-2])\n",
    "L.append(7)\n",
    "print(L)"
   ]
  },
  {
   "cell_type": "code",
   "execution_count": null,
   "metadata": {},
   "outputs": [],
   "source": [
    "L[0]=\"one\"\n",
    "\n",
    "print(L)"
   ]
  },
  {
   "cell_type": "code",
   "execution_count": 9,
   "metadata": {},
   "outputs": [],
   "source": [
    "list1 = ['cheese', 'pepperoni', 'onion']\n",
    "\n",
    "list1.append('nihao')\n"
   ]
  },
  {
   "cell_type": "markdown",
   "metadata": {},
   "source": [
    "### Tuples"
   ]
  },
  {
   "cell_type": "code",
   "execution_count": null,
   "metadata": {},
   "outputs": [],
   "source": [
    "t = (1, 2, \"skip a few\", 99, 100)\n",
    "\n",
    "print(type(t))\n",
    "print(t)\n",
    "print(t[4])"
   ]
  },
  {
   "cell_type": "code",
   "execution_count": null,
   "metadata": {},
   "outputs": [],
   "source": [
    "t.append(101)"
   ]
  },
  {
   "cell_type": "markdown",
   "metadata": {},
   "source": [
    "### Slices"
   ]
  },
  {
   "cell_type": "code",
   "execution_count": 10,
   "metadata": {},
   "outputs": [
    {
     "name": "stdout",
     "output_type": "stream",
     "text": [
      "sh All\n",
      "Josh All\n",
      "sh Allen\n"
     ]
    }
   ],
   "source": [
    "player = \"Josh Allen\"\n",
    "\n",
    "print(player[2:8])\n",
    "print(player[:8])\n",
    "print(player[2:])"
   ]
  },
  {
   "cell_type": "code",
   "execution_count": 11,
   "metadata": {},
   "outputs": [
    {
     "name": "stdout",
     "output_type": "stream",
     "text": [
      "['red', 'orange']\n",
      "['orange', 'yellow', 'blue']\n",
      "['red', ['orange'], 'blue']\n"
     ]
    }
   ],
   "source": [
    "colors = [\"red\", \"yellow\", \"blue\"]\n",
    "colors[1:] = [\"orange\"]\n",
    "print(colors)\n",
    "\n",
    "colors = [\"red\", \"yellow\", \"blue\"]\n",
    "colors[:1] = [\"orange\"]\n",
    "print(colors)\n",
    "\n",
    "colors = [\"red\", \"yellow\", \"blue\"]\n",
    "colors[1] = [\"orange\"]\n",
    "print(colors)"
   ]
  },
  {
   "cell_type": "markdown",
   "metadata": {},
   "source": [
    "### Dictionaries"
   ]
  },
  {
   "cell_type": "code",
   "execution_count": null,
   "metadata": {},
   "outputs": [],
   "source": [
    "d = dict()\n",
    "d[5] = 'five'\n",
    "d[2] = 'two'\n",
    "d['pi'] = 3.14159\n",
    "\n",
    "print(d)\n",
    "print(d[5])"
   ]
  },
  {
   "cell_type": "code",
   "execution_count": null,
   "metadata": {},
   "outputs": [],
   "source": [
    "# can also define a dictionary using { }\n",
    "d = {5: 'five', 2: 'two', 'pi': 3.14159}\n",
    "\n",
    "print(d[2])"
   ]
  },
  {
   "cell_type": "code",
   "execution_count": null,
   "metadata": {},
   "outputs": [],
   "source": [
    "d[5] = \"FIVE\"\n",
    "\n",
    "print(d)"
   ]
  },
  {
   "cell_type": "markdown",
   "metadata": {},
   "source": [
    "### Sets"
   ]
  },
  {
   "cell_type": "code",
   "execution_count": null,
   "metadata": {},
   "outputs": [],
   "source": [
    "s = {1,2,3}\n",
    "\n",
    "print(type(s))\n",
    "s.add(4)\n",
    "s.add(1)\n",
    "s.add(2)\n",
    "s.add(2)\n",
    "print(s)"
   ]
  },
  {
   "cell_type": "code",
   "execution_count": null,
   "metadata": {},
   "outputs": [],
   "source": [
    "s.remove(2)\n",
    "print(s)"
   ]
  },
  {
   "cell_type": "code",
   "execution_count": null,
   "metadata": {},
   "outputs": [],
   "source": [
    "s = {1, [2,3], 4}  "
   ]
  },
  {
   "cell_type": "code",
   "execution_count": 15,
   "metadata": {},
   "outputs": [
    {
     "data": {
      "text/plain": [
       "60.0"
      ]
     },
     "execution_count": 15,
     "metadata": {},
     "output_type": "execute_result"
    }
   ],
   "source": [
    "# Create a dictionary with keys \"participation\", \"exams\", \"labs\", \"homework\"\n",
    "# Add a sample grade value to each key in the dictionary.\n",
    "\n",
    "# According to the syllabus, participation is worth 10% of your grade,\n",
    "# homework is 15%, labs are 15%, and exams are 60%.\n",
    "# Write a function that calculates your final grade based on the values entered.\n",
    "\n",
    "dic = {'participation': int(input()), 'exams': int(input()), 'labs': int(input()), 'homework': int(input())}\n",
    "\n",
    "def final_grade(dic):\n",
    "    participation = dic['participation']*0.1\n",
    "    exams = dic['exams']*0.6\n",
    "    labs = dic['labs']*0.15\n",
    "    homework = dic['homework']*0.15\n",
    "    return participation + exams + labs + homework\n",
    "\n",
    "final_grade(dic)"
   ]
  },
  {
   "cell_type": "code",
   "execution_count": null,
   "metadata": {},
   "outputs": [],
   "source": [
    "# Can you update your code above to allow for multiple grades for each key?\n"
   ]
  }
 ],
 "metadata": {
  "kernelspec": {
   "display_name": "Python 3",
   "language": "python",
   "name": "python3"
  },
  "language_info": {
   "codemirror_mode": {
    "name": "ipython",
    "version": 3
   },
   "file_extension": ".py",
   "mimetype": "text/x-python",
   "name": "python",
   "nbconvert_exporter": "python",
   "pygments_lexer": "ipython3",
   "version": "3.12.3"
  }
 },
 "nbformat": 4,
 "nbformat_minor": 2
}
